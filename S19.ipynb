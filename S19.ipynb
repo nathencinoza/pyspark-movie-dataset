{
  "nbformat": 4,
  "nbformat_minor": 0,
  "metadata": {
    "colab": {
      "provenance": [],
      "mount_file_id": "1hTDHUuSJG9DqeUnjOwWsAsDC-NVYrzkB",
      "authorship_tag": "ABX9TyObGoFdYCUuKsinCbOzQqPv",
      "include_colab_link": true
    },
    "kernelspec": {
      "name": "python3",
      "display_name": "Python 3"
    },
    "language_info": {
      "name": "python"
    }
  },
  "cells": [
    {
      "cell_type": "markdown",
      "metadata": {
        "id": "view-in-github",
        "colab_type": "text"
      },
      "source": [
        "<a href=\"https://colab.research.google.com/github/nathencinoza/pyspark-movie-dataset/blob/main/S19.ipynb\" target=\"_parent\"><img src=\"https://colab.research.google.com/assets/colab-badge.svg\" alt=\"Open In Colab\"/></a>"
      ]
    },
    {
      "cell_type": "markdown",
      "source": [
        "S19) Top 10 3-uplas de palabras más populares en las descripciones de las películas removiendo stopwords."
      ],
      "metadata": {
        "id": "WikKwGMFri8B"
      }
    },
    {
      "cell_type": "code",
      "execution_count": null,
      "metadata": {
        "id": "XQPQDXqArgSa"
      },
      "outputs": [],
      "source": [
        "!pip install pyspark\n",
        "!pip install -U -q PyDrive\n",
        "!apt update\n",
        "!apt install openjdk-8-jdk-headless -qq\n",
        "#!apt install default-jre\n",
        "#!apt install default-jdk\n",
        "import os\n",
        "os.environ[\"JAVA_HOME\"] = \"/usr/lib/jvm/java-8-openjdk-amd64\""
      ]
    },
    {
      "cell_type": "code",
      "source": [
        "from pydrive.auth import GoogleAuth\n",
        "from pydrive.drive import GoogleDrive\n",
        "from google.colab import auth\n",
        "from oauth2client.client import GoogleCredentials\n",
        "from pyspark.sql import *\n",
        "from pyspark.sql.functions import *\n",
        "from pyspark import SparkContext\n",
        "from pyspark.sql import SQLContext\n",
        "import pandas as pd"
      ],
      "metadata": {
        "id": "wBp5n6Lwz-3K"
      },
      "execution_count": null,
      "outputs": []
    },
    {
      "cell_type": "code",
      "source": [
        "auth.authenticate_user()\n",
        "gauth = GoogleAuth()\n",
        "gauth.credentials = GoogleCredentials.get_application_default()\n",
        "drive = GoogleDrive(gauth)"
      ],
      "metadata": {
        "id": "nBJb-w6U0Fqt"
      },
      "execution_count": null,
      "outputs": []
    },
    {
      "cell_type": "code",
      "source": [
        "spark = SparkSession.builder.getOrCreate()\n",
        "sc = spark.sparkContext\n",
        "sqlContext = SQLContext(sc)\n",
        "rdd = sqlContext.read.parquet('/content/drive/MyDrive/Orga 2/Movie dataset/Parquets/movies.parquet').rdd"
      ],
      "metadata": {
        "id": "VBYg-Au80CMN",
        "colab": {
          "base_uri": "https://localhost:8080/"
        },
        "outputId": "2276ad3a-7dc8-4b1d-95a2-def5b47c15d6"
      },
      "execution_count": null,
      "outputs": [
        {
          "output_type": "stream",
          "name": "stderr",
          "text": [
            "/usr/local/lib/python3.7/dist-packages/pyspark/sql/context.py:114: FutureWarning: Deprecated in 3.0.0. Use SparkSession.builder.getOrCreate() instead.\n",
            "  FutureWarning,\n"
          ]
        }
      ]
    },
    {
      "cell_type": "code",
      "source": [
        "import nltk \n",
        "from nltk.corpus import stopwords\n",
        "nltk.download('stopwords')\n",
        "stopwords = set(stopwords.words('english'))"
      ],
      "metadata": {
        "id": "zoD9XW3E1MYa",
        "colab": {
          "base_uri": "https://localhost:8080/"
        },
        "outputId": "214f7e47-e99a-4658-fd41-d062df2b7b94"
      },
      "execution_count": null,
      "outputs": [
        {
          "output_type": "stream",
          "name": "stderr",
          "text": [
            "[nltk_data] Downloading package stopwords to /root/nltk_data...\n",
            "[nltk_data]   Unzipping corpora/stopwords.zip.\n"
          ]
        }
      ]
    },
    {
      "cell_type": "code",
      "source": [
        "from nltk.tokenize import RegexpTokenizer\n",
        "tokenizer = RegexpTokenizer(r'\\w+')"
      ],
      "metadata": {
        "id": "1y9I6V-y5HDI"
      },
      "execution_count": null,
      "outputs": []
    },
    {
      "cell_type": "code",
      "source": [
        "rdd.first()"
      ],
      "metadata": {
        "colab": {
          "base_uri": "https://localhost:8080/"
        },
        "id": "gwAFE_Rq0hmg",
        "outputId": "caba82e5-4082-42ba-81d6-7f4673843257"
      },
      "execution_count": null,
      "outputs": [
        {
          "output_type": "execute_result",
          "data": {
            "text/plain": [
              "Row(adult='False', belongs_to_collection='Toy Story Collection', budget='30000000', genres='Animation,Comedy,Family', homepage='http://toystory.disney.com/toy-story', id='862', imdb_id='tt0114709', original_language='en', original_title='Toy Story', overview=\"Led by Woody, Andy's toys live happily in his room until Andy's birthday brings Buzz Lightyear onto the scene. Afraid of losing his place in Andy's heart, Woody plots against Buzz. But when circumstances separate Buzz and Woody from their owner, the duo eventually learns to put aside their differences.\", popularity=21.946943, poster_path='/rhIRbceoE9lR4veEXuwCC2wARtG.jpg', production_companies='3', production_countries=\"[{'iso_3166_1': 'US', 'name': 'United States of America'}]\", release_date='1995-10-30', revenue=373554033.0, runtime=81.0, spoken_languages=\"[{'iso_639_1': 'en', 'name': 'English'}]\", status='Released', tagline=None, title='Toy Story', video=False, vote_average=7.7, vote_count=5415.0)"
            ]
          },
          "metadata": {},
          "execution_count": 56
        }
      ]
    },
    {
      "cell_type": "code",
      "source": [
        "rdd = rdd.filter(lambda x: x.overview != None)"
      ],
      "metadata": {
        "id": "xh2KmqaIrBZs"
      },
      "execution_count": null,
      "outputs": []
    },
    {
      "cell_type": "code",
      "source": [
        "rdd = rdd.map(lambda x: (x.title, [w for w in (tokenizer.tokenize(x.overview.lower())) if w not in stopwords]))\n",
        "rdd.take(1)"
      ],
      "metadata": {
        "id": "YMVhrBgZ1cRv",
        "colab": {
          "base_uri": "https://localhost:8080/"
        },
        "outputId": "9499403b-50c7-48fa-be9b-c30f607b1a90"
      },
      "execution_count": null,
      "outputs": [
        {
          "output_type": "execute_result",
          "data": {
            "text/plain": [
              "[('Toy Story',\n",
              "  ['led',\n",
              "   'woody',\n",
              "   'andy',\n",
              "   'toys',\n",
              "   'live',\n",
              "   'happily',\n",
              "   'room',\n",
              "   'andy',\n",
              "   'birthday',\n",
              "   'brings',\n",
              "   'buzz',\n",
              "   'lightyear',\n",
              "   'onto',\n",
              "   'scene',\n",
              "   'afraid',\n",
              "   'losing',\n",
              "   'place',\n",
              "   'andy',\n",
              "   'heart',\n",
              "   'woody',\n",
              "   'plots',\n",
              "   'buzz',\n",
              "   'circumstances',\n",
              "   'separate',\n",
              "   'buzz',\n",
              "   'woody',\n",
              "   'owner',\n",
              "   'duo',\n",
              "   'eventually',\n",
              "   'learns',\n",
              "   'put',\n",
              "   'aside',\n",
              "   'differences'])]"
            ]
          },
          "metadata": {},
          "execution_count": 97
        }
      ]
    },
    {
      "cell_type": "code",
      "source": [
        "def ordenarTuplas(x):\n",
        "  lista = list()\n",
        "  for item in nltk.trigrams(x[1]): \n",
        "    lista.append((\" \".join(item),1))\n",
        "  return lista"
      ],
      "metadata": {
        "id": "JOm5602jgXVq"
      },
      "execution_count": null,
      "outputs": []
    },
    {
      "cell_type": "markdown",
      "source": [
        "Top 10 3-uplas:"
      ],
      "metadata": {
        "id": "HHIzjIwvGeH3"
      }
    },
    {
      "cell_type": "code",
      "source": [
        "rdd.flatMap(lambda x: ordenarTuplas(x)).reduceByKey(lambda x,y: x+y).takeOrdered(10, lambda x: -x[1])"
      ],
      "metadata": {
        "colab": {
          "base_uri": "https://localhost:8080/"
        },
        "id": "O3bgeiew6XbY",
        "outputId": "82311e21-6ea0-4879-ab43-ce14f5503ff1"
      },
      "execution_count": null,
      "outputs": [
        {
          "output_type": "execute_result",
          "data": {
            "text/plain": [
              "[('new york city', 410),\n",
              " ('world war ii', 397),\n",
              " ('based true story', 149),\n",
              " ('year old boy', 127),\n",
              " ('year old girl', 117),\n",
              " ('12 year old', 113),\n",
              " ('year old son', 108),\n",
              " ('year old daughter', 95),\n",
              " ('17 year old', 88),\n",
              " ('film tells story', 85)]"
            ]
          },
          "metadata": {},
          "execution_count": 98
        }
      ]
    }
  ]
}